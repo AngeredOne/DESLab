{
  "nbformat": 4,
  "nbformat_minor": 0,
  "metadata": {
    "colab": {
      "name": "trans.ipynb",
      "provenance": [],
      "collapsed_sections": [],
      "include_colab_link": true
    },
    "kernelspec": {
      "name": "python3",
      "display_name": "Python 3"
    },
    "language_info": {
      "name": "python"
    }
  },
  "cells": [
    {
      "cell_type": "markdown",
      "metadata": {
        "id": "view-in-github",
        "colab_type": "text"
      },
      "source": [
        "<a href=\"https://colab.research.google.com/github/AngeredOne/DESLab/blob/master/trans.ipynb\" target=\"_parent\"><img src=\"https://colab.research.google.com/assets/colab-badge.svg\" alt=\"Open In Colab\"/></a>"
      ]
    },
    {
      "cell_type": "markdown",
      "metadata": {
        "id": "-N9KPJGE1-dB"
      },
      "source": [
        "***abk*** алле алле александр юрьевич э дмитрий компания подскажите пожалуйста удобно говорить сейчас говорите мы вчера с вами созванивались а по как раз материалам хотелось бы вам сделать предложение я вам на почту отсылал прайзик  вот ничего не посмотрел пока сейчас посмотрю если что хорошо хорошо\n",
        "\n",
        "***kaldi*** александр день добрый дмитрий компании пожалуйста удобно говорить сейчас о созванивались по материалам хотелось сделать предложение почту отсылал просеки увлечения посмотрим посмотрим слишком хорошо хорошо\n",
        "\n",
        "***yandex*** але але александр юрьевич день добрый дмитрий компании подскажите пожалуйста удобно говори сейчас говорите а мы часто созванивались по окрашенным материалам хотелось бы вам сделать предложение я вам на почту отсылал пращи графики ничего не посмотрел сейчас посмотрю сижу если что хорошо хорошо ага\n",
        "\n",
        "***google*** алло алло александр юрьевич день добрый дмитрий компании  пожалуйста удобно говорить сейчас созванивались по материалам хотелось бы вам сделать предложение я вам на почту отсылал прыщик графики вот\n",
        "\n",
        "***sttai*** алло алло александр юрьевич день добрый а дмитрий компании подскажите пожалуйста удобно говорить сейчас говорите а мы вчера с вами созванивались по страшному материалом хотелось бы вам сделать предложение я вам на почту отсылал прайсик просеки вот ничего не посмотрел только сейчас посмотрю сижу с вами если что может быть заинтересует хорошо хорошо'\n",
        "\n",
        "***crt*** алло алло александр юрьевич день добрый на дмитрий компания говорите а мы вчера с вами созванивались по материалом хотелось бы вам сделать я вам на почту отсылал прайсик праздники вот я сегодня ничего не посмотрел пока сейчас посмотрю сижу сегодня если что заинтересует хорошо ага\n",
        "<br>\n",
        "<br>\n",
        "<br>\n",
        "***результат полный*** алло алло александр юрьевич я день добрый я не дмитрий компании подскажите пожалуйста удобно (говори) говорить сейчас говорить я мы вчера с вам я (часто) созванивались я по (как) (раз) (окрашенным) (страшному) материалам хотелось по почту отсылал прайсик прайсик (праздники) вот (пращи) (прыщик) графики я (сегодня) ничего не посмотрел (только) пока сейчас посмотрю сижу с вам (сегодня) если что (увлечения) (посмотрим) (посмотрим) (слишком) (может) (быть) заинтересует хорошо хорошо ага вот\n",
        "\n",
        "***результат короткий*** алло алло александр юрьевич я день добрый я не дмитрий компании подскажите пожалуйста удобно говорить сейчас говорить я мы вчера с вам я созванивались я по материалам хотелось по почту отсылал прайсик прайсик вот графики я ничего не посмотрел пока сейчас посмотрю сижу с вам если что заинтересует хорошо хорошо ага вот\n",
        "\n",
        "***контрольный результат*** алло алло александр юрьевич день добрый дмитрий компания подскажите пожалуйста удобно говорть сейчас говорите а мы вчера с вами созванивались по лакокрасочным  материалам хотелось бы вам сделать предложение я вам на почту отсылал прайсик прайсики я еще ничего не посмотрел пока сейчас посмотрю свяжусь с вами если что может что заинтересует хорошо хорошо ага\n",
        "\n",
        "Полученный результат:<br>\n",
        "hand   : 0.345<br>\n",
        "abk    : 0.387<br>\n",
        "kaldi  : 0.362<br>\n",
        "yandex : 0.366<br>\n",
        "google : 0.430<br>\n",
        "sttai  : 0.446<br>\n",
        "crt    : 0.340<br>\n",
        "Среднее без ручной проверки:  0.44<br>\n",
        "Среднее с ручной проверкой: 0.388<br><br>\n",
        "Контрольный результат (hand):<br>\n",
        "abk     : 0.395<br>\n",
        "kaldi   : 0.365<br>\n",
        "yandex  : 0.390<br>\n",
        "google  : 0.616<br>\n",
        "sttai   : 0.379<br>\n",
        "crt     : 0.510<br>\n",
        "Среднее:  0.507<br>"
      ]
    },
    {
      "cell_type": "code",
      "metadata": {
        "id": "MgeVluRm3Md9"
      },
      "source": [
        "# f_df"
      ],
      "execution_count": null,
      "outputs": []
    },
    {
      "cell_type": "code",
      "metadata": {
        "colab": {
          "base_uri": "https://localhost:8080/"
        },
        "id": "omuDGrjnlWwI",
        "outputId": "a7c89bf5-42c4-4326-a899-f9ba40c5bd8d"
      },
      "source": [
        "pip install metaphone"
      ],
      "execution_count": null,
      "outputs": [
        {
          "output_type": "stream",
          "text": [
            "Collecting metaphone\n",
            "  Downloading https://files.pythonhosted.org/packages/d4/ae/c9e4d007e32a6469be212da11d0b8e104d643f6f247d771742caf6ac6bb8/Metaphone-0.6.tar.gz\n",
            "Building wheels for collected packages: metaphone\n",
            "  Building wheel for metaphone (setup.py) ... \u001b[?25l\u001b[?25hdone\n",
            "  Created wheel for metaphone: filename=Metaphone-0.6-cp37-none-any.whl size=13918 sha256=3cc7b9249c4c6758d8fd5c61656fced7e4346fa93ce0df8525cd7d143f04890b\n",
            "  Stored in directory: /root/.cache/pip/wheels/4e/7c/f7/162d726fc83491ef23c7a0b989005024eb83a1408c96f32eaf\n",
            "Successfully built metaphone\n",
            "Installing collected packages: metaphone\n",
            "Successfully installed metaphone-0.6\n"
          ],
          "name": "stdout"
        }
      ]
    },
    {
      "cell_type": "code",
      "metadata": {
        "id": "Ih27BkxpmwWj"
      },
      "source": [
        "import pandas as pd\n",
        "import numpy as np\n",
        "import metaphone\n",
        "import difflib\n",
        "import re\n",
        "from string import punctuation\n",
        "from collections import Counter"
      ],
      "execution_count": null,
      "outputs": []
    },
    {
      "cell_type": "code",
      "metadata": {
        "id": "fednyMaTlkig"
      },
      "source": [
        "def translit(text):  # алгоритм транслитации, для метафона (тот принимает только латиницу)\n",
        "    cyrillic = 'абвгдеёжзийклмнопрстуфхцчшщъыьэюяАБВГДЕЁЖЗИЙКЛМНОПРСТУФХЦЧШЩЪЫЬЭЮЯ'\n",
        "    latin = 'a|b|v|g|d|e|e|zh|z|i|i|k|l|m|n|o|p|r|s|t|u|f|kh|tc|ch|sh|shch||y||e|iu|ia|A|B|V|G|D|E|E|Zh|Z|I|I|K|L|M|' \\\n",
        "            'N|O|P|R|S|T|U|F|Kh|Tc|Ch|Sh|Shch||Y||E|Iu|Ia'.split('|')\n",
        "    return text.translate({ord(k):v for k,v in zip(cyrillic,latin)})"
      ],
      "execution_count": null,
      "outputs": []
    },
    {
      "cell_type": "code",
      "metadata": {
        "id": "Q3K7szsRlsQS"
      },
      "source": [
        "spec_chars = punctuation + '1234567890'\n",
        "\n",
        "def remove_chars_from_text(text, chars):\n",
        "    return \"\".join([ch for ch in text if ch not in chars])"
      ],
      "execution_count": null,
      "outputs": []
    },
    {
      "cell_type": "markdown",
      "metadata": {
        "id": "6ukTJXW7JVgU"
      },
      "source": [
        "## Текст вставлять в словари"
      ]
    },
    {
      "cell_type": "code",
      "metadata": {
        "id": "soW3gBfMlu3r"
      },
      "source": [
        "hand = {'hand': 'алло алло александр юрьевич день добрый дмитрий компания подскажите пожалуйста удобно говорть '\n",
        "                'сейчас говорите а мы вчера с вами созванивались по лакокрасочным  материалам хотелось бы вам '\n",
        "                'сделать предложение я вам на почту отсылал прайсик прайсики я еще ничего не посмотрел пока '\n",
        "                'сейчас посмотрю свяжусь с вами если что может что заинтересует хорошо хорошо ага'}\n",
        "\n",
        "abk = {'abk': 'алле алле александр юрьевич э дмитрий компания подскажите пожалуйста удобно говорить сейчас говорите '\n",
        "              'мы вчера с вами созванивались а по как раз материалам хотелось бы вам сделать предложение я вам на '\n",
        "              'почту отсылал прайзик  вот ничего не посмотрел пока сейчас посмотрю если что хорошо хорошо'}\n",
        "\n",
        "kaldi = {'kaldi': 'александр день добрый дмитрий компании пожалуйста удобно говорить сейчас о созванивались по '\n",
        "                  'материалам хотелось сделать предложение почту отсылал просеки увлечения посмотрим посмотрим '\n",
        "                  'слишком хорошо хорошо'}\n",
        "\n",
        "yandex = {'yandex': 'але але александр юрьевич день добрый дмитрий компании подскажите пожалуйста удобно говори'\n",
        "                    ' сейчас говорите а мы часто созванивались по окрашенным материалам хотелось бы вам сделать'\n",
        "                    ' предложение я вам на почту отсылал пращи графики ничего не посмотрел сейчас посмотрю сижу'\n",
        "                    ' если что хорошо хорошо ага'}\n",
        "\n",
        "google = {'google': 'алло алло александр юрьевич день добрый дмитрий компании  пожалуйста удобно говорить сейчас'\n",
        "                    ' созванивались по материалам хотелось бы вам сделать предложение я вам на почту отсылал прыщик'\n",
        "                    ' графики вот'}\n",
        "\n",
        "sttai = {'sttai': 'алло алло александр юрьевич день добрый а дмитрий компании подскажите пожалуйста удобно говорить '\n",
        "                  'сейчас говорите а мы вчера с вами созванивались по страшному материалом хотелось бы вам сделать '\n",
        "                  'предложение я вам на почту отсылал прайсик просеки вот ничего не посмотрел только сейчас посмотрю '\n",
        "                  'сижу с вами если что может быть заинтересует хорошо хорошо'}\n",
        "\n",
        "crt = {'crt': 'алло алло александр юрьевич день добрый на дмитрий компания говорите а мы вчера с вами созванивались'\n",
        "              ' по материалом хотелось бы вам сделать я вам на почту отсылал прайсик праздники вот я сегодня ничего'\n",
        "              ' не посмотрел пока сейчас посмотрю сижу сегодня если что заинтересует хорошо ага'}"
      ],
      "execution_count": null,
      "outputs": []
    },
    {
      "cell_type": "code",
      "metadata": {
        "id": "cxLTb01RbQAt"
      },
      "source": [
        "# Дальше нужно:\n",
        "# — Сделать выравнивание транскрибации. Это нужно для того, чтобы учесть слова, пропущенные одним сервисом, но которые есть в других. Возможно, имеет смысл посмотреть в сторону выравнивающих алгоритмов: https://ru.wikipedia.org/wiki/Выравнивание_последовательностей (а может и нет)\n",
        "# — Посчитать статистику по словам. Наиболее часто встречающееся слово считаемся основным, другие — альтернативными вариантами.\n",
        "# — Сохранить результат в структуру данных, с которой удобно будет работать (json)\n",
        "\n",
        "# Для экспериментов можно брать данные из этой же таблицы."
      ],
      "execution_count": null,
      "outputs": []
    },
    {
      "cell_type": "markdown",
      "metadata": {
        "id": "hbhc3LAyh-TG"
      },
      "source": [
        ""
      ]
    },
    {
      "cell_type": "code",
      "metadata": {
        "id": "qk5AGrpQbRL8"
      },
      "source": [
        ""
      ],
      "execution_count": null,
      "outputs": []
    },
    {
      "cell_type": "code",
      "metadata": {
        "colab": {
          "base_uri": "https://localhost:8080/"
        },
        "id": "GI0B3p-hlx0o",
        "outputId": "6b341006-cc9b-4029-e915-2d674fd3be0a"
      },
      "source": [
        "dicts = [abk, kaldi, yandex, google, sttai, crt]\n",
        "\n",
        "for dic in dicts:\n",
        "  for key in dic.keys():\n",
        "    dic[key] = dic[key].split(' ')\n",
        "    for word in dic[key]:\n",
        "      word_index = dic[key].index(word)\n",
        "      dic[key][word_index] = [word, translit(word), metaphone.doublemetaphone(translit(word))[0]]\n",
        "\n",
        "print(dicts)"
      ],
      "execution_count": null,
      "outputs": [
        {
          "output_type": "stream",
          "text": [
            "[{'abk': [['алле', 'alle', 'AL'], ['алле', 'alle', 'AL'], ['александр', 'aleksandr', 'ALKSNTR'], ['юрьевич', 'iurevich', 'ARFX'], ['э', 'e', 'A'], ['дмитрий', 'dmitrii', 'TMTR'], ['компания', 'kompaniia', 'KMPN'], ['подскажите', 'podskazhite', 'PTSKJT'], ['пожалуйста', 'pozhaluista', 'PJLST'], ['удобно', 'udobno', 'ATPN'], ['говорить', 'govorit', 'KFRT'], ['сейчас', 'seichas', 'SXS'], ['говорите', 'govorite', 'KFRT'], ['мы', 'my', 'M'], ['вчера', 'vchera', 'FXR'], ['с', 's', 'S'], ['вами', 'vami', 'FM'], ['созванивались', 'sozvanivalis', 'SSFNFLS'], ['а', 'a', 'A'], ['по', 'po', 'P'], ['как', 'kak', 'KK'], ['раз', 'raz', 'RS'], ['материалам', 'materialam', 'MTRLM'], ['хотелось', 'khotelos', 'KTLS'], ['бы', 'by', 'P'], ['вам', 'vam', 'FM'], ['сделать', 'sdelat', 'STLT'], ['предложение', 'predlozhenie', 'PRTLJN'], ['я', 'ia', 'A'], ['вам', 'vam', 'FM'], ['на', 'na', 'N'], ['почту', 'pochtu', 'PKT'], ['отсылал', 'otsylal', 'ATSLL'], ['прайзик', 'praizik', 'PRSK'], ['', '', ''], ['вот', 'vot', 'FT'], ['ничего', 'nichego', 'NXK'], ['не', 'ne', 'N'], ['посмотрел', 'posmotrel', 'PSMTRL'], ['пока', 'poka', 'PK'], ['сейчас', 'seichas', 'SXS'], ['посмотрю', 'posmotriu', 'PSMTR'], ['если', 'esli', 'ASL'], ['что', 'chto', 'KT'], ['хорошо', 'khorosho', 'KRX'], ['хорошо', 'khorosho', 'KRX']]}, {'kaldi': [['александр', 'aleksandr', 'ALKSNTR'], ['день', 'den', 'TN'], ['добрый', 'dobryi', 'TPR'], ['дмитрий', 'dmitrii', 'TMTR'], ['компании', 'kompanii', 'KMPN'], ['пожалуйста', 'pozhaluista', 'PJLST'], ['удобно', 'udobno', 'ATPN'], ['говорить', 'govorit', 'KFRT'], ['сейчас', 'seichas', 'SXS'], ['о', 'o', 'A'], ['созванивались', 'sozvanivalis', 'SSFNFLS'], ['по', 'po', 'P'], ['материалам', 'materialam', 'MTRLM'], ['хотелось', 'khotelos', 'KTLS'], ['сделать', 'sdelat', 'STLT'], ['предложение', 'predlozhenie', 'PRTLJN'], ['почту', 'pochtu', 'PKT'], ['отсылал', 'otsylal', 'ATSLL'], ['просеки', 'proseki', 'PRSK'], ['увлечения', 'uvlecheniia', 'AFLXN'], ['посмотрим', 'posmotrim', 'PSMTRM'], ['посмотрим', 'posmotrim', 'PSMTRM'], ['слишком', 'slishkom', 'SLXKM'], ['хорошо', 'khorosho', 'KRX'], ['хорошо', 'khorosho', 'KRX']]}, {'yandex': [['але', 'ale', 'AL'], ['але', 'ale', 'AL'], ['александр', 'aleksandr', 'ALKSNTR'], ['юрьевич', 'iurevich', 'ARFX'], ['день', 'den', 'TN'], ['добрый', 'dobryi', 'TPR'], ['дмитрий', 'dmitrii', 'TMTR'], ['компании', 'kompanii', 'KMPN'], ['подскажите', 'podskazhite', 'PTSKJT'], ['пожалуйста', 'pozhaluista', 'PJLST'], ['удобно', 'udobno', 'ATPN'], ['говори', 'govori', 'KFR'], ['сейчас', 'seichas', 'SXS'], ['говорите', 'govorite', 'KFRT'], ['а', 'a', 'A'], ['мы', 'my', 'M'], ['часто', 'chasto', 'XST'], ['созванивались', 'sozvanivalis', 'SSFNFLS'], ['по', 'po', 'P'], ['окрашенным', 'okrashennym', 'AKRXNM'], ['материалам', 'materialam', 'MTRLM'], ['хотелось', 'khotelos', 'KTLS'], ['бы', 'by', 'P'], ['вам', 'vam', 'FM'], ['сделать', 'sdelat', 'STLT'], ['предложение', 'predlozhenie', 'PRTLJN'], ['я', 'ia', 'A'], ['вам', 'vam', 'FM'], ['на', 'na', 'N'], ['почту', 'pochtu', 'PKT'], ['отсылал', 'otsylal', 'ATSLL'], ['пращи', 'prashchi', 'PRXX'], ['графики', 'grafiki', 'KRFK'], ['ничего', 'nichego', 'NXK'], ['не', 'ne', 'N'], ['посмотрел', 'posmotrel', 'PSMTRL'], ['сейчас', 'seichas', 'SXS'], ['посмотрю', 'posmotriu', 'PSMTR'], ['сижу', 'sizhu', 'SJ'], ['если', 'esli', 'ASL'], ['что', 'chto', 'KT'], ['хорошо', 'khorosho', 'KRX'], ['хорошо', 'khorosho', 'KRX'], ['ага', 'aga', 'AK']]}, {'google': [['алло', 'allo', 'AL'], ['алло', 'allo', 'AL'], ['александр', 'aleksandr', 'ALKSNTR'], ['юрьевич', 'iurevich', 'ARFX'], ['день', 'den', 'TN'], ['добрый', 'dobryi', 'TPR'], ['дмитрий', 'dmitrii', 'TMTR'], ['компании', 'kompanii', 'KMPN'], ['', '', ''], ['пожалуйста', 'pozhaluista', 'PJLST'], ['удобно', 'udobno', 'ATPN'], ['говорить', 'govorit', 'KFRT'], ['сейчас', 'seichas', 'SXS'], ['созванивались', 'sozvanivalis', 'SSFNFLS'], ['по', 'po', 'P'], ['материалам', 'materialam', 'MTRLM'], ['хотелось', 'khotelos', 'KTLS'], ['бы', 'by', 'P'], ['вам', 'vam', 'FM'], ['сделать', 'sdelat', 'STLT'], ['предложение', 'predlozhenie', 'PRTLJN'], ['я', 'ia', 'A'], ['вам', 'vam', 'FM'], ['на', 'na', 'N'], ['почту', 'pochtu', 'PKT'], ['отсылал', 'otsylal', 'ATSLL'], ['прыщик', 'pryshchik', 'PRXXK'], ['графики', 'grafiki', 'KRFK'], ['вот', 'vot', 'FT']]}, {'sttai': [['алло', 'allo', 'AL'], ['алло', 'allo', 'AL'], ['александр', 'aleksandr', 'ALKSNTR'], ['юрьевич', 'iurevich', 'ARFX'], ['день', 'den', 'TN'], ['добрый', 'dobryi', 'TPR'], ['а', 'a', 'A'], ['дмитрий', 'dmitrii', 'TMTR'], ['компании', 'kompanii', 'KMPN'], ['подскажите', 'podskazhite', 'PTSKJT'], ['пожалуйста', 'pozhaluista', 'PJLST'], ['удобно', 'udobno', 'ATPN'], ['говорить', 'govorit', 'KFRT'], ['сейчас', 'seichas', 'SXS'], ['говорите', 'govorite', 'KFRT'], ['а', 'a', 'A'], ['мы', 'my', 'M'], ['вчера', 'vchera', 'FXR'], ['с', 's', 'S'], ['вами', 'vami', 'FM'], ['созванивались', 'sozvanivalis', 'SSFNFLS'], ['по', 'po', 'P'], ['страшному', 'strashnomu', 'STRXNM'], ['материалом', 'materialom', 'MTRLM'], ['хотелось', 'khotelos', 'KTLS'], ['бы', 'by', 'P'], ['вам', 'vam', 'FM'], ['сделать', 'sdelat', 'STLT'], ['предложение', 'predlozhenie', 'PRTLJN'], ['я', 'ia', 'A'], ['вам', 'vam', 'FM'], ['на', 'na', 'N'], ['почту', 'pochtu', 'PKT'], ['отсылал', 'otsylal', 'ATSLL'], ['прайсик', 'praisik', 'PRSK'], ['просеки', 'proseki', 'PRSK'], ['вот', 'vot', 'FT'], ['ничего', 'nichego', 'NXK'], ['не', 'ne', 'N'], ['посмотрел', 'posmotrel', 'PSMTRL'], ['только', 'tolko', 'TLK'], ['сейчас', 'seichas', 'SXS'], ['посмотрю', 'posmotriu', 'PSMTR'], ['сижу', 'sizhu', 'SJ'], ['с', 's', 'S'], ['вами', 'vami', 'FM'], ['если', 'esli', 'ASL'], ['что', 'chto', 'KT'], ['может', 'mozhet', 'MJT'], ['быть', 'byt', 'PT'], ['заинтересует', 'zainteresuet', 'SNTRST'], ['хорошо', 'khorosho', 'KRX'], ['хорошо', 'khorosho', 'KRX']]}, {'crt': [['алло', 'allo', 'AL'], ['алло', 'allo', 'AL'], ['александр', 'aleksandr', 'ALKSNTR'], ['юрьевич', 'iurevich', 'ARFX'], ['день', 'den', 'TN'], ['добрый', 'dobryi', 'TPR'], ['на', 'na', 'N'], ['дмитрий', 'dmitrii', 'TMTR'], ['компания', 'kompaniia', 'KMPN'], ['говорите', 'govorite', 'KFRT'], ['а', 'a', 'A'], ['мы', 'my', 'M'], ['вчера', 'vchera', 'FXR'], ['с', 's', 'S'], ['вами', 'vami', 'FM'], ['созванивались', 'sozvanivalis', 'SSFNFLS'], ['по', 'po', 'P'], ['материалом', 'materialom', 'MTRLM'], ['хотелось', 'khotelos', 'KTLS'], ['бы', 'by', 'P'], ['вам', 'vam', 'FM'], ['сделать', 'sdelat', 'STLT'], ['я', 'ia', 'A'], ['вам', 'vam', 'FM'], ['на', 'na', 'N'], ['почту', 'pochtu', 'PKT'], ['отсылал', 'otsylal', 'ATSLL'], ['прайсик', 'praisik', 'PRSK'], ['праздники', 'prazdniki', 'PRSTNK'], ['вот', 'vot', 'FT'], ['я', 'ia', 'A'], ['сегодня', 'segodnia', 'SKTN'], ['ничего', 'nichego', 'NXK'], ['не', 'ne', 'N'], ['посмотрел', 'posmotrel', 'PSMTRL'], ['пока', 'poka', 'PK'], ['сейчас', 'seichas', 'SXS'], ['посмотрю', 'posmotriu', 'PSMTR'], ['сижу', 'sizhu', 'SJ'], ['сегодня', 'segodnia', 'SKTN'], ['если', 'esli', 'ASL'], ['что', 'chto', 'KT'], ['заинтересует', 'zainteresuet', 'SNTRST'], ['хорошо', 'khorosho', 'KRX'], ['ага', 'aga', 'AK']]}]\n"
          ],
          "name": "stdout"
        }
      ]
    },
    {
      "cell_type": "code",
      "metadata": {
        "id": "0hoD9rRmsFi5"
      },
      "source": [
        "df1 = pd.DataFrame(dicts[0]['abk'], columns=['cyr', 'lat', 'meta'])\n",
        "df2 = pd.DataFrame(dicts[1]['kaldi'], columns=['cyr', 'lat', 'meta'])\n",
        "df3 = pd.DataFrame(dicts[2]['yandex'], columns=['cyr', 'lat', 'meta'])\n",
        "df4 = pd.DataFrame(dicts[3]['google'], columns=['cyr', 'lat', 'meta'])\n",
        "df5 = pd.DataFrame(dicts[4]['sttai'], columns=['cyr', 'lat', 'meta'])\n",
        "df6 = pd.DataFrame(dicts[5]['crt'], columns=['cyr', 'lat', 'meta'])"
      ],
      "execution_count": null,
      "outputs": []
    },
    {
      "cell_type": "code",
      "metadata": {
        "id": "JrEE7lqLvKnU"
      },
      "source": [
        "dfs = [df1, df2, df3, df4, df5, df6]"
      ],
      "execution_count": null,
      "outputs": []
    },
    {
      "cell_type": "code",
      "metadata": {
        "id": "kde8eGEDC35h"
      },
      "source": [
        "sent12 = re.sub(r'\\s+', ' ', remove_chars_from_text(' '.join(difflib.unified_diff(df1['meta'].tolist(), df2['meta'].tolist(), lineterm='')), spec_chars))\n",
        "sent34 = re.sub(r'\\s+', ' ', remove_chars_from_text(' '.join(difflib.unified_diff(df3['meta'].tolist(), df4['meta'].tolist(), lineterm='')), spec_chars))\n",
        "sent56 = re.sub(r'\\s+', ' ', remove_chars_from_text(' '.join(difflib.unified_diff(df5['meta'].tolist(), df6['meta'].tolist(), lineterm='')), spec_chars))\n",
        "\n",
        "sent1234 = re.sub(r'\\s+', ' ', remove_chars_from_text(' '.join(difflib.unified_diff(sent12.split(' '), sent34.split(' '), lineterm='')), spec_chars))\n",
        "sent123456 = re.sub(r'\\s+', ' ', remove_chars_from_text(' '.join(difflib.unified_diff(sent1234.split(' '), sent56.split(' '), lineterm='')), spec_chars))"
      ],
      "execution_count": null,
      "outputs": []
    },
    {
      "cell_type": "code",
      "metadata": {
        "id": "Zbo_5aIWFIpK"
      },
      "source": [
        "final_sent = sent123456.split(' ')"
      ],
      "execution_count": null,
      "outputs": []
    },
    {
      "cell_type": "code",
      "metadata": {
        "id": "LrQIoJ13Fj5R"
      },
      "source": [
        "cyr_sent = []\n",
        "for meta_word in final_sent:\n",
        "  word = []\n",
        "  for df in dfs:\n",
        "    cyr_word = list(df.loc[df['meta'] == meta_word]['cyr'])\n",
        "    word.append(cyr_word)\n",
        "  cyr_sent.append(word)"
      ],
      "execution_count": null,
      "outputs": []
    },
    {
      "cell_type": "code",
      "metadata": {
        "id": "sLkCKwhAHphd"
      },
      "source": [
        "n = 10\n",
        "while n != 0:\n",
        "  n -= 1\n",
        "  for word in cyr_sent:\n",
        "    if word == [''] or word == []:\n",
        "        cyr_sent.remove(word)\n",
        "    for sub_word in word:\n",
        "      if sub_word == [''] or sub_word == []:\n",
        "        word.remove(sub_word)\n"
      ],
      "execution_count": null,
      "outputs": []
    },
    {
      "cell_type": "code",
      "metadata": {
        "id": "LzOAC7wAKbiF"
      },
      "source": [
        "f_df = pd.DataFrame(cyr_sent, columns=['abk', 'kaldi', 'yandex', 'google', 'sttai', 'crt'])"
      ],
      "execution_count": null,
      "outputs": []
    },
    {
      "cell_type": "code",
      "metadata": {
        "id": "hiPK7Ji4Plgi"
      },
      "source": [
        "f_df = f_df.fillna(value=' ')"
      ],
      "execution_count": null,
      "outputs": []
    },
    {
      "cell_type": "code",
      "metadata": {
        "colab": {
          "base_uri": "https://localhost:8080/",
          "height": 419
        },
        "id": "7NfZmDTddlij",
        "outputId": "55a2131f-67bb-4b4e-f21a-f2579ac9bbb8"
      },
      "source": [
        "f_df"
      ],
      "execution_count": null,
      "outputs": [
        {
          "output_type": "execute_result",
          "data": {
            "text/html": [
              "<div>\n",
              "<style scoped>\n",
              "    .dataframe tbody tr th:only-of-type {\n",
              "        vertical-align: middle;\n",
              "    }\n",
              "\n",
              "    .dataframe tbody tr th {\n",
              "        vertical-align: top;\n",
              "    }\n",
              "\n",
              "    .dataframe thead th {\n",
              "        text-align: right;\n",
              "    }\n",
              "</style>\n",
              "<table border=\"1\" class=\"dataframe\">\n",
              "  <thead>\n",
              "    <tr style=\"text-align: right;\">\n",
              "      <th></th>\n",
              "      <th>abk</th>\n",
              "      <th>kaldi</th>\n",
              "      <th>yandex</th>\n",
              "      <th>google</th>\n",
              "      <th>sttai</th>\n",
              "      <th>crt</th>\n",
              "    </tr>\n",
              "  </thead>\n",
              "  <tbody>\n",
              "    <tr>\n",
              "      <th>0</th>\n",
              "      <td>[алле, алле]</td>\n",
              "      <td>[але, але]</td>\n",
              "      <td>[алло, алло]</td>\n",
              "      <td>[алло, алло]</td>\n",
              "      <td>[алло, алло]</td>\n",
              "      <td></td>\n",
              "    </tr>\n",
              "    <tr>\n",
              "      <th>1</th>\n",
              "      <td>[алле, алле]</td>\n",
              "      <td>[але, але]</td>\n",
              "      <td>[алло, алло]</td>\n",
              "      <td>[алло, алло]</td>\n",
              "      <td>[алло, алло]</td>\n",
              "      <td></td>\n",
              "    </tr>\n",
              "    <tr>\n",
              "      <th>2</th>\n",
              "      <td>[александр]</td>\n",
              "      <td>[александр]</td>\n",
              "      <td>[александр]</td>\n",
              "      <td>[александр]</td>\n",
              "      <td>[александр]</td>\n",
              "      <td>[александр]</td>\n",
              "    </tr>\n",
              "    <tr>\n",
              "      <th>3</th>\n",
              "      <td>[юрьевич]</td>\n",
              "      <td>[юрьевич]</td>\n",
              "      <td>[юрьевич]</td>\n",
              "      <td>[юрьевич]</td>\n",
              "      <td>[юрьевич]</td>\n",
              "      <td></td>\n",
              "    </tr>\n",
              "    <tr>\n",
              "      <th>4</th>\n",
              "      <td>[э, а, я]</td>\n",
              "      <td>[о]</td>\n",
              "      <td>[а, я]</td>\n",
              "      <td>[я]</td>\n",
              "      <td>[а, а, я]</td>\n",
              "      <td>[а, я, я]</td>\n",
              "    </tr>\n",
              "    <tr>\n",
              "      <th>...</th>\n",
              "      <td>...</td>\n",
              "      <td>...</td>\n",
              "      <td>...</td>\n",
              "      <td>...</td>\n",
              "      <td>...</td>\n",
              "      <td>...</td>\n",
              "    </tr>\n",
              "    <tr>\n",
              "      <th>65</th>\n",
              "      <td>[заинтересует]</td>\n",
              "      <td>[заинтересует]</td>\n",
              "      <td></td>\n",
              "      <td></td>\n",
              "      <td></td>\n",
              "      <td></td>\n",
              "    </tr>\n",
              "    <tr>\n",
              "      <th>66</th>\n",
              "      <td>[хорошо, хорошо]</td>\n",
              "      <td>[хорошо, хорошо]</td>\n",
              "      <td>[хорошо, хорошо]</td>\n",
              "      <td>[хорошо, хорошо]</td>\n",
              "      <td>[хорошо]</td>\n",
              "      <td></td>\n",
              "    </tr>\n",
              "    <tr>\n",
              "      <th>67</th>\n",
              "      <td>[хорошо, хорошо]</td>\n",
              "      <td>[хорошо, хорошо]</td>\n",
              "      <td>[хорошо, хорошо]</td>\n",
              "      <td>[хорошо, хорошо]</td>\n",
              "      <td>[хорошо]</td>\n",
              "      <td></td>\n",
              "    </tr>\n",
              "    <tr>\n",
              "      <th>68</th>\n",
              "      <td>[ага]</td>\n",
              "      <td>[ага]</td>\n",
              "      <td></td>\n",
              "      <td></td>\n",
              "      <td></td>\n",
              "      <td></td>\n",
              "    </tr>\n",
              "    <tr>\n",
              "      <th>69</th>\n",
              "      <td>[вот]</td>\n",
              "      <td>[вот]</td>\n",
              "      <td>[вот]</td>\n",
              "      <td>[вот]</td>\n",
              "      <td></td>\n",
              "      <td></td>\n",
              "    </tr>\n",
              "  </tbody>\n",
              "</table>\n",
              "<p>70 rows × 6 columns</p>\n",
              "</div>"
            ],
            "text/plain": [
              "                 abk             kaldi  ...         sttai          crt\n",
              "0       [алле, алле]        [але, але]  ...  [алло, алло]             \n",
              "1       [алле, алле]        [але, але]  ...  [алло, алло]             \n",
              "2        [александр]       [александр]  ...   [александр]  [александр]\n",
              "3          [юрьевич]         [юрьевич]  ...     [юрьевич]             \n",
              "4          [э, а, я]               [о]  ...     [а, а, я]    [а, я, я]\n",
              "..               ...               ...  ...           ...          ...\n",
              "65    [заинтересует]    [заинтересует]  ...                           \n",
              "66  [хорошо, хорошо]  [хорошо, хорошо]  ...      [хорошо]             \n",
              "67  [хорошо, хорошо]  [хорошо, хорошо]  ...      [хорошо]             \n",
              "68             [ага]             [ага]  ...                           \n",
              "69             [вот]             [вот]  ...                           \n",
              "\n",
              "[70 rows x 6 columns]"
            ]
          },
          "metadata": {
            "tags": []
          },
          "execution_count": 17
        }
      ]
    },
    {
      "cell_type": "code",
      "metadata": {
        "id": "3cT-WAcZLaQg"
      },
      "source": [
        "for row in f_df.index:\n",
        "  for col in f_df.loc[row].index:\n",
        "    data = f_df.loc[row][col]\n",
        "    f_df.loc[row][col] = max(set(data), key = data.count)"
      ],
      "execution_count": null,
      "outputs": []
    },
    {
      "cell_type": "code",
      "metadata": {
        "id": "9GU7v-rkU9j8"
      },
      "source": [
        "f_df[6] = ''\n",
        "f_df[7] = ''\n",
        "\n",
        "for row in f_df.index:\n",
        "  for ind in f_df.iloc[row].value_counts().index:\n",
        "    if ind != ' ' and ind != '':\n",
        "      if f_df.iloc[row].value_counts()[ind] == 1:\n",
        "        f_df[6].iloc[row] = f'({ind})'\n",
        "      else:\n",
        "        f_df[6].iloc[row] = f'{ind}'\n",
        "      break"
      ],
      "execution_count": null,
      "outputs": []
    },
    {
      "cell_type": "code",
      "metadata": {
        "id": "dE633K4VsNiR"
      },
      "source": [
        "for row in f_df.index:\n",
        "  alt_list = []\n",
        "  for ind in f_df.iloc[row].value_counts().index:\n",
        "    if ind != ' ' and ind != '' and ind != f_df[6].iloc[row] and ind != f'({f_df[6].iloc[row]})':\n",
        "      alt_list.append([ind, f_df.iloc[row].value_counts()[ind]])\n",
        "  f_df[7].iloc[row] = alt_list\n"
      ],
      "execution_count": null,
      "outputs": []
    },
    {
      "cell_type": "code",
      "metadata": {
        "id": "H8FI0CW8faU-"
      },
      "source": [
        "f_df.columns = ['abk', 'kaldi', 'yandex', 'google', 'sttai', 'crt', 'trans', 'alts']"
      ],
      "execution_count": null,
      "outputs": []
    },
    {
      "cell_type": "code",
      "metadata": {
        "colab": {
          "base_uri": "https://localhost:8080/",
          "height": 419
        },
        "id": "XXJplRr8uMmP",
        "outputId": "85c86a53-fb95-4043-9d04-e1d196956a1b"
      },
      "source": [
        "f_df"
      ],
      "execution_count": null,
      "outputs": [
        {
          "output_type": "execute_result",
          "data": {
            "text/html": [
              "<div>\n",
              "<style scoped>\n",
              "    .dataframe tbody tr th:only-of-type {\n",
              "        vertical-align: middle;\n",
              "    }\n",
              "\n",
              "    .dataframe tbody tr th {\n",
              "        vertical-align: top;\n",
              "    }\n",
              "\n",
              "    .dataframe thead th {\n",
              "        text-align: right;\n",
              "    }\n",
              "</style>\n",
              "<table border=\"1\" class=\"dataframe\">\n",
              "  <thead>\n",
              "    <tr style=\"text-align: right;\">\n",
              "      <th></th>\n",
              "      <th>abk</th>\n",
              "      <th>kaldi</th>\n",
              "      <th>yandex</th>\n",
              "      <th>google</th>\n",
              "      <th>sttai</th>\n",
              "      <th>crt</th>\n",
              "      <th>trans</th>\n",
              "      <th>alts</th>\n",
              "    </tr>\n",
              "  </thead>\n",
              "  <tbody>\n",
              "    <tr>\n",
              "      <th>0</th>\n",
              "      <td>алле</td>\n",
              "      <td>але</td>\n",
              "      <td>алло</td>\n",
              "      <td>алло</td>\n",
              "      <td>алло</td>\n",
              "      <td></td>\n",
              "      <td>алло</td>\n",
              "      <td>[[але, 1], [алле, 1]]</td>\n",
              "    </tr>\n",
              "    <tr>\n",
              "      <th>1</th>\n",
              "      <td>алле</td>\n",
              "      <td>але</td>\n",
              "      <td>алло</td>\n",
              "      <td>алло</td>\n",
              "      <td>алло</td>\n",
              "      <td></td>\n",
              "      <td>алло</td>\n",
              "      <td>[[але, 1], [алле, 1]]</td>\n",
              "    </tr>\n",
              "    <tr>\n",
              "      <th>2</th>\n",
              "      <td>александр</td>\n",
              "      <td>александр</td>\n",
              "      <td>александр</td>\n",
              "      <td>александр</td>\n",
              "      <td>александр</td>\n",
              "      <td>александр</td>\n",
              "      <td>александр</td>\n",
              "      <td>[]</td>\n",
              "    </tr>\n",
              "    <tr>\n",
              "      <th>3</th>\n",
              "      <td>юрьевич</td>\n",
              "      <td>юрьевич</td>\n",
              "      <td>юрьевич</td>\n",
              "      <td>юрьевич</td>\n",
              "      <td>юрьевич</td>\n",
              "      <td></td>\n",
              "      <td>юрьевич</td>\n",
              "      <td>[]</td>\n",
              "    </tr>\n",
              "    <tr>\n",
              "      <th>4</th>\n",
              "      <td>я</td>\n",
              "      <td>о</td>\n",
              "      <td>я</td>\n",
              "      <td>я</td>\n",
              "      <td>а</td>\n",
              "      <td>я</td>\n",
              "      <td>я</td>\n",
              "      <td>[[о, 1], [а, 1]]</td>\n",
              "    </tr>\n",
              "    <tr>\n",
              "      <th>...</th>\n",
              "      <td>...</td>\n",
              "      <td>...</td>\n",
              "      <td>...</td>\n",
              "      <td>...</td>\n",
              "      <td>...</td>\n",
              "      <td>...</td>\n",
              "      <td>...</td>\n",
              "      <td>...</td>\n",
              "    </tr>\n",
              "    <tr>\n",
              "      <th>65</th>\n",
              "      <td>заинтересует</td>\n",
              "      <td>заинтересует</td>\n",
              "      <td></td>\n",
              "      <td></td>\n",
              "      <td></td>\n",
              "      <td></td>\n",
              "      <td>заинтересует</td>\n",
              "      <td>[]</td>\n",
              "    </tr>\n",
              "    <tr>\n",
              "      <th>66</th>\n",
              "      <td>хорошо</td>\n",
              "      <td>хорошо</td>\n",
              "      <td>хорошо</td>\n",
              "      <td>хорошо</td>\n",
              "      <td>хорошо</td>\n",
              "      <td></td>\n",
              "      <td>хорошо</td>\n",
              "      <td>[]</td>\n",
              "    </tr>\n",
              "    <tr>\n",
              "      <th>67</th>\n",
              "      <td>хорошо</td>\n",
              "      <td>хорошо</td>\n",
              "      <td>хорошо</td>\n",
              "      <td>хорошо</td>\n",
              "      <td>хорошо</td>\n",
              "      <td></td>\n",
              "      <td>хорошо</td>\n",
              "      <td>[]</td>\n",
              "    </tr>\n",
              "    <tr>\n",
              "      <th>68</th>\n",
              "      <td>ага</td>\n",
              "      <td>ага</td>\n",
              "      <td></td>\n",
              "      <td></td>\n",
              "      <td></td>\n",
              "      <td></td>\n",
              "      <td>ага</td>\n",
              "      <td>[]</td>\n",
              "    </tr>\n",
              "    <tr>\n",
              "      <th>69</th>\n",
              "      <td>вот</td>\n",
              "      <td>вот</td>\n",
              "      <td>вот</td>\n",
              "      <td>вот</td>\n",
              "      <td></td>\n",
              "      <td></td>\n",
              "      <td>вот</td>\n",
              "      <td>[]</td>\n",
              "    </tr>\n",
              "  </tbody>\n",
              "</table>\n",
              "<p>70 rows × 8 columns</p>\n",
              "</div>"
            ],
            "text/plain": [
              "             abk         kaldi  ...         trans                   alts\n",
              "0           алле           але  ...          алло  [[але, 1], [алле, 1]]\n",
              "1           алле           але  ...          алло  [[але, 1], [алле, 1]]\n",
              "2      александр     александр  ...     александр                     []\n",
              "3        юрьевич       юрьевич  ...       юрьевич                     []\n",
              "4              я             о  ...             я       [[о, 1], [а, 1]]\n",
              "..           ...           ...  ...           ...                    ...\n",
              "65  заинтересует  заинтересует  ...  заинтересует                     []\n",
              "66        хорошо        хорошо  ...        хорошо                     []\n",
              "67        хорошо        хорошо  ...        хорошо                     []\n",
              "68           ага           ага  ...           ага                     []\n",
              "69           вот           вот  ...           вот                     []\n",
              "\n",
              "[70 rows x 8 columns]"
            ]
          },
          "metadata": {
            "tags": []
          },
          "execution_count": 22
        }
      ]
    },
    {
      "cell_type": "markdown",
      "metadata": {
        "id": "COeNM0vZfZC9"
      },
      "source": [
        ""
      ]
    },
    {
      "cell_type": "code",
      "metadata": {
        "id": "WEKlQvb4W8Vf"
      },
      "source": [
        "final = ''\n",
        "for word in f_df['trans'].to_list():\n",
        "  final += word + ' '"
      ],
      "execution_count": null,
      "outputs": []
    },
    {
      "cell_type": "code",
      "metadata": {
        "colab": {
          "base_uri": "https://localhost:8080/",
          "height": 69
        },
        "id": "DACz1R1AlH-M",
        "outputId": "ebc6791f-2410-4640-81d1-4ba50862eb88"
      },
      "source": [
        "# результат с неодназанчными словами\n",
        "final"
      ],
      "execution_count": null,
      "outputs": [
        {
          "output_type": "execute_result",
          "data": {
            "application/vnd.google.colaboratory.intrinsic+json": {
              "type": "string"
            },
            "text/plain": [
              "'алло алло александр юрьевич я день добрый я не дмитрий компании подскажите пожалуйста удобно (говори) говорить сейчас говорить я мы вчера с вам я (часто) созванивались я по (как) (раз) (окрашенным) (страшному) материалам хотелось по почту отсылал просеки просеки (праздники) вот (пращи) (прыщик) графики я (сегодня) ничего не посмотрел (только) пока сейчас посмотрю сижу с вам (сегодня) если что (увлечения) (посмотрим) (посмотрим) (слишком) (может) (быть) заинтересует хорошо хорошо ага вот '"
            ]
          },
          "metadata": {
            "tags": []
          },
          "execution_count": 24
        }
      ]
    },
    {
      "cell_type": "code",
      "metadata": {
        "id": "Zmv5QJJ2Y2Y9"
      },
      "source": [
        "final1 = re.sub(r'\\s+', ' ', re.sub(r'\\([^()]*\\)', '', final))"
      ],
      "execution_count": null,
      "outputs": []
    },
    {
      "cell_type": "code",
      "metadata": {
        "colab": {
          "base_uri": "https://localhost:8080/",
          "height": 52
        },
        "id": "GBf0rpzfhVqV",
        "outputId": "cc6c3bb7-ae47-47ed-90b0-af1d1f432563"
      },
      "source": [
        "# результат без неоднозначных слов\n",
        "final1"
      ],
      "execution_count": null,
      "outputs": [
        {
          "output_type": "execute_result",
          "data": {
            "application/vnd.google.colaboratory.intrinsic+json": {
              "type": "string"
            },
            "text/plain": [
              "'алло алло александр юрьевич я день добрый я не дмитрий компании подскажите пожалуйста удобно говорить сейчас говорить я мы вчера с вам я созванивались я по материалам хотелось по почту отсылал просеки просеки вот графики я ничего не посмотрел пока сейчас посмотрю сижу с вам если что заинтересует хорошо хорошо ага вот '"
            ]
          },
          "metadata": {
            "tags": []
          },
          "execution_count": 26
        }
      ]
    },
    {
      "cell_type": "code",
      "metadata": {
        "id": "pGOURIHlO-Ck",
        "colab": {
          "base_uri": "https://localhost:8080/",
          "height": 146
        },
        "outputId": "435734e0-09a0-4f88-ed5d-a0dbb5328ac7"
      },
      "source": [
        "# алло алло александр юрьевич я день добрый я не дмитрий компании подскажите компании пожалуйста удобно (говори) говорите сейчас говорите сейчас говорите я мы (часто) вчера с вам я (часто) созванивались я бы (как) (раз) (окрашенным)\n",
        "#  (страшному) материалам хотелось бы не почту отсылал просеки вот ничего не посмотрел пока сейчас посмотрю если что (увлечения) (посмотрим) (посмотрим) (слишком) (пращи) (прыщик) графики просеки просеки (праздники) вот \n",
        "#  я (сегодня) ничего не посмотрел (только) пока сейчас посмотрю сижу с вам (сегодня) если что (может) (быть) заинтересует хорошо хорошо ага \n",
        "\n",
        "#  алло алло александр юрьевич я день добрый я не дмитрий компании подскажите компании пожалуйста удобно говорите сейчас говорите сейчас говорите я мы вчера с вам я созванивались я бы материалам хотелось бы не почту отсылал просек\n",
        "#  и вот ничего не посмотрел пока сейчас посмотрю если что графики просеки просеки вот я ничего не посмотрел пока сейчас посмотрю сижу с вам если что заинтересует хорошо хорошо ага \n",
        "\n"
      ],
      "execution_count": null,
      "outputs": [
        {
          "output_type": "error",
          "ename": "SyntaxError",
          "evalue": "ignored",
          "traceback": [
            "\u001b[0;36m  File \u001b[0;32m\"<ipython-input-27-446b9e26f44a>\"\u001b[0;36m, line \u001b[0;32m1\u001b[0m\n\u001b[0;31m    алло алло александр юрьевич я день добрый я не дмитрий компании подскажите компании пожалуйста удобно (говори) говорите сейчас говорите сейчас говорите я мы (часто) вчера с вам я (часто) созванивались я бы (как) (раз) (окрашенным)\u001b[0m\n\u001b[0m            ^\u001b[0m\n\u001b[0;31mSyntaxError\u001b[0m\u001b[0;31m:\u001b[0m invalid syntax\n"
          ]
        }
      ]
    },
    {
      "cell_type": "code",
      "metadata": {
        "colab": {
          "base_uri": "https://localhost:8080/",
          "height": 52
        },
        "id": "HVbweiH7hXBL",
        "outputId": "819eedad-0853-48f2-801b-3b7df5ad515f"
      },
      "source": [
        "# контрольный резульата\n",
        "hand['hand']"
      ],
      "execution_count": null,
      "outputs": [
        {
          "output_type": "execute_result",
          "data": {
            "application/vnd.google.colaboratory.intrinsic+json": {
              "type": "string"
            },
            "text/plain": [
              "'алло алло александр юрьевич день добрый дмитрий компания подскажите пожалуйста удобно говорть сейчас говорите а мы вчера с вами созванивались по лакокрасочным  материалам хотелось бы вам сделать предложение я вам на почту отсылал прайсик прайсики я еще ничего не посмотрел пока сейчас посмотрю свяжусь с вами если что может что заинтересует хорошо хорошо ага'"
            ]
          },
          "metadata": {
            "tags": []
          },
          "execution_count": 28
        }
      ]
    },
    {
      "cell_type": "code",
      "metadata": {
        "id": "_-4QpQIWuYei"
      },
      "source": [
        "# сохранение в json\n",
        "f_df.to_json(r'Export_DataFrame.json', force_ascii=False, orient='index')"
      ],
      "execution_count": null,
      "outputs": []
    },
    {
      "cell_type": "markdown",
      "metadata": {
        "id": "K8hoV1BqJODk"
      },
      "source": [
        "# Тестовая часть"
      ]
    },
    {
      "cell_type": "code",
      "metadata": {
        "id": "a2dCUnjnxQ-X"
      },
      "source": [
        "test_dict = {'hand': 'алло алло александр юрьевич день добрый дмитрий компания подскажите пожалуйста удобно говорть '\n",
        "                'сейчас говорите а мы вчера с вами созванивались по лакокрасочным  материалам хотелось бы вам '\n",
        "                'сделать предложение я вам на почту отсылал прайсик прайсики я еще ничего не посмотрел пока '\n",
        "                'сейчас посмотрю свяжусь с вами если что может что заинтересует хорошо хорошо ага',\n",
        "\n",
        "        'abk': 'алле алле александр юрьевич э дмитрий компания подскажите пожалуйста удобно говорить сейчас говорите '\n",
        "              'мы вчера с вами созванивались а по как раз материалам хотелось бы вам сделать предложение я вам на '\n",
        "              'почту отсылал прайзик  вот ничего не посмотрел пока сейчас посмотрю если что хорошо хорошо',\n",
        "\n",
        "      'kaldi': 'александр день добрый дмитрий компании пожалуйста удобно говорить сейчас о созванивались по '\n",
        "                  'материалам хотелось сделать предложение почту отсылал просеки увлечения посмотрим посмотрим '\n",
        "                  'слишком хорошо хорошо',\n",
        "\n",
        "          'yandex': 'але але александр юрьевич день добрый дмитрий компании подскажите пожалуйста удобно говори'\n",
        "                    ' сейчас говорите а мы часто созванивались по окрашенным материалам хотелось бы вам сделать'\n",
        "                    ' предложение я вам на почту отсылал пращи графики ничего не посмотрел сейчас посмотрю сижу'\n",
        "                    ' если что хорошо хорошо ага',\n",
        "\n",
        "          'google': 'алло алло александр юрьевич день добрый дмитрий компании  пожалуйста удобно говорить сейчас'\n",
        "                    ' созванивались по материалам хотелось бы вам сделать предложение я вам на почту отсылал прыщик'\n",
        "                    ' графики вот',\n",
        "\n",
        "        'sttai': 'алло алло александр юрьевич день добрый а дмитрий компании подскажите пожалуйста удобно говорить '\n",
        "                  'сейчас говорите а мы вчера с вами созванивались по страшному материалом хотелось бы вам сделать '\n",
        "                  'предложение я вам на почту отсылал прайсик просеки вот ничего не посмотрел только сейчас посмотрю '\n",
        "                  'сижу с вами если что может быть заинтересует хорошо хорошо',\n",
        "\n",
        "       'crt': 'алло алло александр юрьевич день добрый на дмитрий компания говорите а мы вчера с вами созванивались'\n",
        "              ' по материалом хотелось бы вам сделать я вам на почту отсылал прайсик праздники вот я сегодня ничего'\n",
        "              ' не посмотрел пока сейчас посмотрю сижу сегодня если что заинтересует хорошо ага'}"
      ],
      "execution_count": null,
      "outputs": []
    },
    {
      "cell_type": "code",
      "metadata": {
        "id": "5n45nQdhxt4h"
      },
      "source": [
        "# Сравнение совпадений с помощью difflib\n",
        "mid = 0\n",
        "print('Полученный результат:')\n",
        "for key in test_dict.keys():\n",
        "  print(f'{key :<7}: {difflib.SequenceMatcher(None, test_dict[key], final1).ratio()}')\n",
        "  if key1 != 'hand':  \n",
        "    mid += difflib.SequenceMatcher(None, test_dict[key], final1).ratio()\n",
        "mid = mid / 6\n",
        "print('Среднее: ', mid)\n",
        "\n",
        "print('Контрольный результат:')\n",
        "hand = 'hand'\n",
        "for key1 in test_dict.keys():\n",
        "  if key1 != 'hand':\n",
        "    print(f'{key1:<8}: {difflib.SequenceMatcher(None, test_dict[key1], test_dict[hand]).ratio()}')\n",
        "    mid += difflib.SequenceMatcher(None, test_dict[key1], test_dict[hand]).ratio()\n",
        "mid = mid / 6\n",
        "print('Среднее: ', mid)"
      ],
      "execution_count": null,
      "outputs": []
    }
  ]
}